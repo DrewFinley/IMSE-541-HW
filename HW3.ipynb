{
  "nbformat": 4,
  "nbformat_minor": 0,
  "metadata": {
    "colab": {
      "provenance": [],
      "collapsed_sections": [],
      "authorship_tag": "ABX9TyPFqjphf1ZihAJWrZ8hYZ6n",
      "include_colab_link": true
    },
    "kernelspec": {
      "name": "python3",
      "display_name": "Python 3"
    },
    "language_info": {
      "name": "python"
    }
  },
  "cells": [
    {
      "cell_type": "markdown",
      "metadata": {
        "id": "view-in-github",
        "colab_type": "text"
      },
      "source": [
        "<a href=\"https://colab.research.google.com/github/DrewFinley/IMSE-541-HW/blob/main/HW3.ipynb\" target=\"_parent\"><img src=\"https://colab.research.google.com/assets/colab-badge.svg\" alt=\"Open In Colab\"/></a>"
      ]
    },
    {
      "cell_type": "code",
      "source": [
        "import math\n",
        "import statistics\n",
        "import numpy as np\n",
        "import scipy.stats \n",
        "from scipy import stats\n",
        "from scipy.stats import f_oneway\n",
        "import pandas as pd\n",
        "import matplotlib.pyplot as plt\n",
        "import statsmodels.api as sm\n",
        "from statsmodels.formula.api import ols\n",
        "import statsmodels.stats.multicomp as mc\n",
        "import matplotlib.pyplot as plt\n",
        "import statsmodels.graphics.gofplots as sm\n",
        "import seaborn as sns"
      ],
      "metadata": {
        "id": "VAunGNqjAvTJ"
      },
      "execution_count": 1,
      "outputs": []
    },
    {
      "cell_type": "markdown",
      "source": [
        "# 4.35"
      ],
      "metadata": {
        "id": "X8vmoYGw50Z-"
      }
    },
    {
      "cell_type": "code",
      "execution_count": 2,
      "metadata": {
        "colab": {
          "base_uri": "https://localhost:8080/",
          "height": 614
        },
        "id": "KIRurxGC5lwX",
        "outputId": "c2554eff-ae8a-49cb-9379-7c412b484666"
      },
      "outputs": [
        {
          "output_type": "execute_result",
          "data": {
            "text/plain": [
              "    Observation  Flow  Uniformity\n",
              "0             1   125         2.7\n",
              "1             2   125         2.6\n",
              "2             3   125         4.6\n",
              "3             4   125         3.2\n",
              "4             5   125         3.0\n",
              "5             6   125         3.8\n",
              "6             7   160         4.6\n",
              "7             8   160         4.9\n",
              "8             9   160         5.0\n",
              "9            10   160         4.2\n",
              "10           11   160         3.6\n",
              "11           12   160         4.2\n",
              "12           13   200         4.6\n",
              "13           14   200         2.9\n",
              "14           15   200         3.4\n",
              "15           16   200         3.5\n",
              "16           17   200         4.1\n",
              "17           18   200         5.1"
            ],
            "text/html": [
              "\n",
              "  <div id=\"df-9822e84e-0f4f-4748-9851-89cb6611bd62\">\n",
              "    <div class=\"colab-df-container\">\n",
              "      <div>\n",
              "<style scoped>\n",
              "    .dataframe tbody tr th:only-of-type {\n",
              "        vertical-align: middle;\n",
              "    }\n",
              "\n",
              "    .dataframe tbody tr th {\n",
              "        vertical-align: top;\n",
              "    }\n",
              "\n",
              "    .dataframe thead th {\n",
              "        text-align: right;\n",
              "    }\n",
              "</style>\n",
              "<table border=\"1\" class=\"dataframe\">\n",
              "  <thead>\n",
              "    <tr style=\"text-align: right;\">\n",
              "      <th></th>\n",
              "      <th>Observation</th>\n",
              "      <th>Flow</th>\n",
              "      <th>Uniformity</th>\n",
              "    </tr>\n",
              "  </thead>\n",
              "  <tbody>\n",
              "    <tr>\n",
              "      <th>0</th>\n",
              "      <td>1</td>\n",
              "      <td>125</td>\n",
              "      <td>2.7</td>\n",
              "    </tr>\n",
              "    <tr>\n",
              "      <th>1</th>\n",
              "      <td>2</td>\n",
              "      <td>125</td>\n",
              "      <td>2.6</td>\n",
              "    </tr>\n",
              "    <tr>\n",
              "      <th>2</th>\n",
              "      <td>3</td>\n",
              "      <td>125</td>\n",
              "      <td>4.6</td>\n",
              "    </tr>\n",
              "    <tr>\n",
              "      <th>3</th>\n",
              "      <td>4</td>\n",
              "      <td>125</td>\n",
              "      <td>3.2</td>\n",
              "    </tr>\n",
              "    <tr>\n",
              "      <th>4</th>\n",
              "      <td>5</td>\n",
              "      <td>125</td>\n",
              "      <td>3.0</td>\n",
              "    </tr>\n",
              "    <tr>\n",
              "      <th>5</th>\n",
              "      <td>6</td>\n",
              "      <td>125</td>\n",
              "      <td>3.8</td>\n",
              "    </tr>\n",
              "    <tr>\n",
              "      <th>6</th>\n",
              "      <td>7</td>\n",
              "      <td>160</td>\n",
              "      <td>4.6</td>\n",
              "    </tr>\n",
              "    <tr>\n",
              "      <th>7</th>\n",
              "      <td>8</td>\n",
              "      <td>160</td>\n",
              "      <td>4.9</td>\n",
              "    </tr>\n",
              "    <tr>\n",
              "      <th>8</th>\n",
              "      <td>9</td>\n",
              "      <td>160</td>\n",
              "      <td>5.0</td>\n",
              "    </tr>\n",
              "    <tr>\n",
              "      <th>9</th>\n",
              "      <td>10</td>\n",
              "      <td>160</td>\n",
              "      <td>4.2</td>\n",
              "    </tr>\n",
              "    <tr>\n",
              "      <th>10</th>\n",
              "      <td>11</td>\n",
              "      <td>160</td>\n",
              "      <td>3.6</td>\n",
              "    </tr>\n",
              "    <tr>\n",
              "      <th>11</th>\n",
              "      <td>12</td>\n",
              "      <td>160</td>\n",
              "      <td>4.2</td>\n",
              "    </tr>\n",
              "    <tr>\n",
              "      <th>12</th>\n",
              "      <td>13</td>\n",
              "      <td>200</td>\n",
              "      <td>4.6</td>\n",
              "    </tr>\n",
              "    <tr>\n",
              "      <th>13</th>\n",
              "      <td>14</td>\n",
              "      <td>200</td>\n",
              "      <td>2.9</td>\n",
              "    </tr>\n",
              "    <tr>\n",
              "      <th>14</th>\n",
              "      <td>15</td>\n",
              "      <td>200</td>\n",
              "      <td>3.4</td>\n",
              "    </tr>\n",
              "    <tr>\n",
              "      <th>15</th>\n",
              "      <td>16</td>\n",
              "      <td>200</td>\n",
              "      <td>3.5</td>\n",
              "    </tr>\n",
              "    <tr>\n",
              "      <th>16</th>\n",
              "      <td>17</td>\n",
              "      <td>200</td>\n",
              "      <td>4.1</td>\n",
              "    </tr>\n",
              "    <tr>\n",
              "      <th>17</th>\n",
              "      <td>18</td>\n",
              "      <td>200</td>\n",
              "      <td>5.1</td>\n",
              "    </tr>\n",
              "  </tbody>\n",
              "</table>\n",
              "</div>\n",
              "      <button class=\"colab-df-convert\" onclick=\"convertToInteractive('df-9822e84e-0f4f-4748-9851-89cb6611bd62')\"\n",
              "              title=\"Convert this dataframe to an interactive table.\"\n",
              "              style=\"display:none;\">\n",
              "        \n",
              "  <svg xmlns=\"http://www.w3.org/2000/svg\" height=\"24px\"viewBox=\"0 0 24 24\"\n",
              "       width=\"24px\">\n",
              "    <path d=\"M0 0h24v24H0V0z\" fill=\"none\"/>\n",
              "    <path d=\"M18.56 5.44l.94 2.06.94-2.06 2.06-.94-2.06-.94-.94-2.06-.94 2.06-2.06.94zm-11 1L8.5 8.5l.94-2.06 2.06-.94-2.06-.94L8.5 2.5l-.94 2.06-2.06.94zm10 10l.94 2.06.94-2.06 2.06-.94-2.06-.94-.94-2.06-.94 2.06-2.06.94z\"/><path d=\"M17.41 7.96l-1.37-1.37c-.4-.4-.92-.59-1.43-.59-.52 0-1.04.2-1.43.59L10.3 9.45l-7.72 7.72c-.78.78-.78 2.05 0 2.83L4 21.41c.39.39.9.59 1.41.59.51 0 1.02-.2 1.41-.59l7.78-7.78 2.81-2.81c.8-.78.8-2.07 0-2.86zM5.41 20L4 18.59l7.72-7.72 1.47 1.35L5.41 20z\"/>\n",
              "  </svg>\n",
              "      </button>\n",
              "      \n",
              "  <style>\n",
              "    .colab-df-container {\n",
              "      display:flex;\n",
              "      flex-wrap:wrap;\n",
              "      gap: 12px;\n",
              "    }\n",
              "\n",
              "    .colab-df-convert {\n",
              "      background-color: #E8F0FE;\n",
              "      border: none;\n",
              "      border-radius: 50%;\n",
              "      cursor: pointer;\n",
              "      display: none;\n",
              "      fill: #1967D2;\n",
              "      height: 32px;\n",
              "      padding: 0 0 0 0;\n",
              "      width: 32px;\n",
              "    }\n",
              "\n",
              "    .colab-df-convert:hover {\n",
              "      background-color: #E2EBFA;\n",
              "      box-shadow: 0px 1px 2px rgba(60, 64, 67, 0.3), 0px 1px 3px 1px rgba(60, 64, 67, 0.15);\n",
              "      fill: #174EA6;\n",
              "    }\n",
              "\n",
              "    [theme=dark] .colab-df-convert {\n",
              "      background-color: #3B4455;\n",
              "      fill: #D2E3FC;\n",
              "    }\n",
              "\n",
              "    [theme=dark] .colab-df-convert:hover {\n",
              "      background-color: #434B5C;\n",
              "      box-shadow: 0px 1px 3px 1px rgba(0, 0, 0, 0.15);\n",
              "      filter: drop-shadow(0px 1px 2px rgba(0, 0, 0, 0.3));\n",
              "      fill: #FFFFFF;\n",
              "    }\n",
              "  </style>\n",
              "\n",
              "      <script>\n",
              "        const buttonEl =\n",
              "          document.querySelector('#df-9822e84e-0f4f-4748-9851-89cb6611bd62 button.colab-df-convert');\n",
              "        buttonEl.style.display =\n",
              "          google.colab.kernel.accessAllowed ? 'block' : 'none';\n",
              "\n",
              "        async function convertToInteractive(key) {\n",
              "          const element = document.querySelector('#df-9822e84e-0f4f-4748-9851-89cb6611bd62');\n",
              "          const dataTable =\n",
              "            await google.colab.kernel.invokeFunction('convertToInteractive',\n",
              "                                                     [key], {});\n",
              "          if (!dataTable) return;\n",
              "\n",
              "          const docLinkHtml = 'Like what you see? Visit the ' +\n",
              "            '<a target=\"_blank\" href=https://colab.research.google.com/notebooks/data_table.ipynb>data table notebook</a>'\n",
              "            + ' to learn more about interactive tables.';\n",
              "          element.innerHTML = '';\n",
              "          dataTable['output_type'] = 'display_data';\n",
              "          await google.colab.output.renderOutput(dataTable, element);\n",
              "          const docLink = document.createElement('div');\n",
              "          docLink.innerHTML = docLinkHtml;\n",
              "          element.appendChild(docLink);\n",
              "        }\n",
              "      </script>\n",
              "    </div>\n",
              "  </div>\n",
              "  "
            ]
          },
          "metadata": {},
          "execution_count": 2
        }
      ],
      "source": [
        "data = pd.read_csv('https://raw.githubusercontent.com/DrewFinley/IMSE-541-HW/main/Table4E.4.csv', sep=',' , na_values='.')\n",
        "data"
      ]
    },
    {
      "cell_type": "code",
      "source": [
        "Flow125 = data[data['Flow']==125]['Uniformity']\n",
        "Flow160 = data[data['Flow']==160]['Uniformity']\n",
        "Flow200 = data[data['Flow']==200]['Uniformity']\n"
      ],
      "metadata": {
        "id": "4Oiw6dVxDqBw"
      },
      "execution_count": 3,
      "outputs": []
    },
    {
      "cell_type": "code",
      "source": [
        "# A\n",
        "stat, p=f_oneway(Flow125, Flow160, Flow200)\n",
        "print('stat=%.3f, p=%.3f' %(stat,p))"
      ],
      "metadata": {
        "colab": {
          "base_uri": "https://localhost:8080/"
        },
        "id": "dD9gaH4tD6Yq",
        "outputId": "40b1c3f8-9816-4780-ebbc-eac670cce32f"
      },
      "execution_count": 4,
      "outputs": [
        {
          "output_type": "stream",
          "name": "stdout",
          "text": [
            "stat=3.586, p=0.053\n"
          ]
        }
      ]
    },
    {
      "cell_type": "markdown",
      "source": [
        "The p value is greater than .05, fail to reject, so evidence exists that the uniformity is impacted by the flow. "
      ],
      "metadata": {
        "id": "9rgJaM5eFpd0"
      }
    },
    {
      "cell_type": "code",
      "source": [
        "df=data \n",
        "df.info()"
      ],
      "metadata": {
        "colab": {
          "base_uri": "https://localhost:8080/"
        },
        "id": "JMsWeZDkGQTc",
        "outputId": "af15ccd0-29fc-4026-c900-1a7a78713538"
      },
      "execution_count": 5,
      "outputs": [
        {
          "output_type": "stream",
          "name": "stdout",
          "text": [
            "<class 'pandas.core.frame.DataFrame'>\n",
            "RangeIndex: 18 entries, 0 to 17\n",
            "Data columns (total 3 columns):\n",
            " #   Column       Non-Null Count  Dtype  \n",
            "---  ------       --------------  -----  \n",
            " 0   Observation  18 non-null     int64  \n",
            " 1   Flow         18 non-null     int64  \n",
            " 2   Uniformity   18 non-null     float64\n",
            "dtypes: float64(1), int64(2)\n",
            "memory usage: 560.0 bytes\n"
          ]
        }
      ]
    },
    {
      "cell_type": "code",
      "source": [
        "# B\n",
        "fig = plt.figure(figsize= (10, 10))\n",
        "ax = fig.add_subplot(111)\n",
        "\n",
        "ax.set_title(\"Box Plot of Etch Uniformity by Flow Rate\", fontsize= 20)\n",
        "ax.set\n",
        "\n",
        "#data2 = [df['Strength'][df['Conc'] == 5],\n",
        "#             df['Strength'][df['Conc'] == 10],\n",
        "#             df['Strength'][df['Conc'] == 15],\n",
        "#             df['Strength'][df['Conc'] == 20]]\n",
        "\n",
        "data2=[Flow125, Flow160, Flow200]\n",
        "\n",
        "ax.boxplot(data2,\n",
        "           labels= ['125', '160', '200'],\n",
        "           showmeans= True)\n",
        "\n",
        "plt.xlabel(\"Flow Rate\")\n",
        "plt.ylabel(\"Uniformity\")\n",
        "\n",
        "plt.show()"
      ],
      "metadata": {
        "colab": {
          "base_uri": "https://localhost:8080/",
          "height": 627
        },
        "id": "ZC5CgrWlGGfV",
        "outputId": "4d0bb12e-68b1-40f7-dcbc-f2f18db9249f"
      },
      "execution_count": 6,
      "outputs": [
        {
          "output_type": "display_data",
          "data": {
            "text/plain": [
              "<Figure size 720x720 with 1 Axes>"
            ],
            "image/png": "[encoded data removed]"
          },
          "metadata": {
            "needs_background": "light"
          }
        }
      ]
    },
    {
      "cell_type": "markdown",
      "source": [
        "A flow rate of 125 is best because it produces the lowest average etch uniformity percentage making it the best choice of the three flow rates."
      ],
      "metadata": {
        "id": "LwyX_mFqIUja"
      }
    },
    {
      "cell_type": "code",
      "source": [
        "# C\n",
        "model = ols('Uniformity ~ C(Flow)', data=df).fit()\n",
        "\n",
        "residuals=model.resid\n",
        "\n",
        "treatment=data['Flow']\n",
        "\n",
        "plt.scatter(treatment, residuals)\n",
        "\n",
        "plt.show()"
      ],
      "metadata": {
        "colab": {
          "base_uri": "https://localhost:8080/",
          "height": 265
        },
        "id": "BY4V_HW6Ig7P",
        "outputId": "39a4c565-4bc1-4940-b830-2ac12b2d10e8"
      },
      "execution_count": 7,
      "outputs": [
        {
          "output_type": "display_data",
          "data": {
            "text/plain": [
              "<Figure size 432x288 with 1 Axes>"
            ],
            "image/png": "[encoded data removed]"
          },
          "metadata": {
            "needs_background": "light"
          }
        }
      ]
    },
    {
      "cell_type": "markdown",
      "source": [
        "There are no unusual patterns in this plot. The variances appear to span a similar distance and are therefore approximately equal.  "
      ],
      "metadata": {
        "id": "G3FG6xuWKJa9"
      }
    },
    {
      "cell_type": "code",
      "source": [
        "# D\n",
        "fig = plt.figure(figsize= (10, 10))\n",
        "ax = fig.add_subplot(111)\n",
        "\n",
        "normality_plot, stat = stats.probplot(model.resid, plot= plt, rvalue= True)\n",
        "ax.set_title(\"Probability plot of model residual's\", fontsize= 20)\n",
        "ax.set\n",
        "\n",
        "plt.show()"
      ],
      "metadata": {
        "colab": {
          "base_uri": "https://localhost:8080/",
          "height": 627
        },
        "id": "g-MVo1akJ4OU",
        "outputId": "3c3ee185-a708-4d79-e511-9627deab879c"
      },
      "execution_count": 8,
      "outputs": [
        {
          "output_type": "display_data",
          "data": {
            "text/plain": [
              "<Figure size 720x720 with 1 Axes>"
            ],
            "image/png": "[encoded data removed]"
          },
          "metadata": {
            "needs_background": "light"
          }
        }
      ]
    },
    {
      "cell_type": "markdown",
      "source": [
        "The assumption of normality is reasonable based on the fit of the line. "
      ],
      "metadata": {
        "id": "T3mfKNC_LdBp"
      }
    },
    {
      "cell_type": "markdown",
      "source": [
        "# 4.36"
      ],
      "metadata": {
        "id": "NHjhkVwvLgm5"
      }
    },
    {
      "cell_type": "code",
      "source": [
        "mean1 = statistics.mean(Flow125)\n",
        "mean2 = statistics.mean(Flow160)\n",
        "mean3 =statistics.mean(Flow200)\n",
        "print(mean1, mean2, mean3)\n",
        "mean_total = (mean1 + mean2 + mean3)/3\n",
        "print(mean_total)"
      ],
      "metadata": {
        "colab": {
          "base_uri": "https://localhost:8080/"
        },
        "id": "ZLWC8UZ-LgQ9",
        "outputId": "31d270c7-fc41-4a5a-ba45-1db863bd1fc7"
      },
      "execution_count": 14,
      "outputs": [
        {
          "output_type": "stream",
          "name": "stdout",
          "text": [
            "3.3166666666666664 4.416666666666667 3.933333333333333\n",
            "3.888888888888889\n"
          ]
        }
      ]
    },
    {
      "cell_type": "markdown",
      "source": [
        "The SSE is the difference squared between all the observations and the total mean, 3.889. Calculating this results in an SSE of 11.2778. The MSE is the SSE divided by a(n-1) degrees of freedom or in this case 3(6-1) or 15. So the MSE is .7519. Lastly the scaled factor is the square root of the MSE divided by n, equalling .353. "
      ],
      "metadata": {
        "id": "miz7MBYrECvF"
      }
    },
    {
      "cell_type": "code",
      "source": [
        "comp = mc.MultiComparison(df['Uniformity'], df['Flow'])\n",
        "post_hoc_res = comp.tukeyhsd()\n",
        "post_hoc_res.summary()\n"
      ],
      "metadata": {
        "colab": {
          "base_uri": "https://localhost:8080/",
          "height": 137
        },
        "id": "iYqyIsuYJyuH",
        "outputId": "c275d7dc-5246-4d3d-a6c9-afab670ada4d"
      },
      "execution_count": 10,
      "outputs": [
        {
          "output_type": "execute_result",
          "data": {
            "text/plain": [
              "<class 'statsmodels.iolib.table.SimpleTable'>"
            ],
            "text/html": [
              "<table class=\"simpletable\">\n",
              "<caption>Multiple Comparison of Means - Tukey HSD, FWER=0.05</caption>\n",
              "<tr>\n",
              "  <th>group1</th> <th>group2</th> <th>meandiff</th>  <th>p-adj</th>  <th>lower</th>   <th>upper</th> <th>reject</th>\n",
              "</tr>\n",
              "<tr>\n",
              "    <td>125</td>    <td>160</td>     <td>1.1</td>   <td>0.0434</td> <td>0.0309</td>  <td>2.1691</td>  <td>True</td> \n",
              "</tr>\n",
              "<tr>\n",
              "    <td>125</td>    <td>200</td>   <td>0.6167</td>  <td>0.3201</td> <td>-0.4525</td> <td>1.6858</td>  <td>False</td>\n",
              "</tr>\n",
              "<tr>\n",
              "    <td>160</td>    <td>200</td>   <td>-0.4833</td> <td>0.4872</td> <td>-1.5525</td> <td>0.5858</td>  <td>False</td>\n",
              "</tr>\n",
              "</table>"
            ]
          },
          "metadata": {},
          "execution_count": 10
        }
      ]
    },
    {
      "cell_type": "code",
      "source": [
        "post_hoc_res.plot_simultaneous(ylabel= \"Flow Rate\", xlabel= \"Uniformity\")"
      ],
      "metadata": {
        "colab": {
          "base_uri": "https://localhost:8080/",
          "height": 791
        },
        "id": "zINmcF0IKW83",
        "outputId": "045be075-852a-4e66-bbc7-c61ff1ce6df2"
      },
      "execution_count": 11,
      "outputs": [
        {
          "output_type": "execute_result",
          "data": {
            "text/plain": [
              "<Figure size 720x432 with 1 Axes>"
            ],
            "image/png": "[encoded data removed]"
          },
          "metadata": {},
          "execution_count": 11
        },
        {
          "output_type": "display_data",
          "data": {
            "text/plain": [
              "<Figure size 720x432 with 1 Axes>"
            ],
            "image/png": "[encoded data removed]"
          },
          "metadata": {
            "needs_background": "light"
          }
        }
      ]
    },
    {
      "cell_type": "markdown",
      "source": [
        "Looking at the graph it does not appear that there is a large difference between the mean etch uniformity of the three flow rates. "
      ],
      "metadata": {
        "id": "ZJJPu40dKg5T"
      }
    },
    {
      "cell_type": "markdown",
      "source": [
        "# 4.47\n"
      ],
      "metadata": {
        "id": "OhIpkMxil9Q8"
      }
    },
    {
      "cell_type": "code",
      "source": [
        "# a \n",
        "data2 = pd.read_csv('https://raw.githubusercontent.com/DrewFinley/IMSE-541-HW/main/Table4E.10.csv', sep=',' , na_values='.')\n",
        "print(data2)\n",
        "BHP = data2['BHP']\n",
        "RPM = data2['RPM']\n",
        "Octane = data2['Octane']\n",
        "Compression = data2['Compression']"
      ],
      "metadata": {
        "id": "-q1WC0E5mBmq",
        "colab": {
          "base_uri": "https://localhost:8080/"
        },
        "outputId": "c2d43c2a-5a31-41e2-8e5d-5f2016d78f1d"
      },
      "execution_count": 12,
      "outputs": [
        {
          "output_type": "stream",
          "name": "stdout",
          "text": [
            "    BHP   RPM  Octane  Compression\n",
            "0   225  2000      90          100\n",
            "1   212  1800      94           95\n",
            "2   229  2400      88          110\n",
            "3   222  1900      91           96\n",
            "4   219  1600      86          100\n",
            "5   278  2500      96          110\n",
            "6   246  3000      94           98\n",
            "7   237  3200      90          100\n",
            "8   233  2800      88          105\n",
            "9   224  3400      86           97\n",
            "10  223  1800      90          100\n",
            "11  230  2500      89          104\n"
          ]
        }
      ]
    },
    {
      "cell_type": "code",
      "source": [
        "model2 = ols('BHP ~ RPM + Octane + Compression', data2).fit()\n",
        "print(model2.summary())"
      ],
      "metadata": {
        "colab": {
          "base_uri": "https://localhost:8080/"
        },
        "id": "Z-Ep7JEG2Gj9",
        "outputId": "09a4aab4-f89d-4f94-b79b-b5aea843b60a"
      },
      "execution_count": 13,
      "outputs": [
        {
          "output_type": "stream",
          "name": "stderr",
          "text": [
            "/usr/local/lib/python3.7/dist-packages/scipy/stats/stats.py:1542: UserWarning: kurtosistest only valid for n>=20 ... continuing anyway, n=12\n",
            "  \"anyway, n=%i\" % int(n))\n"
          ]
        },
        {
          "output_type": "stream",
          "name": "stdout",
          "text": [
            "                            OLS Regression Results                            \n",
            "==============================================================================\n",
            "Dep. Variable:                    BHP   R-squared:                       0.807\n",
            "Model:                            OLS   Adj. R-squared:                  0.734\n",
            "Method:                 Least Squares   F-statistic:                     11.12\n",
            "Date:                Thu, 22 Sep 2022   Prob (F-statistic):            0.00317\n",
            "Time:                        00:07:37   Log-Likelihood:                -40.708\n",
            "No. Observations:                  12   AIC:                             89.42\n",
            "Df Residuals:                       8   BIC:                             91.36\n",
            "Df Model:                           3                                         \n",
            "Covariance Type:            nonrobust                                         \n",
            "===============================================================================\n",
            "                  coef    std err          t      P>|t|      [0.025      0.975]\n",
            "-------------------------------------------------------------------------------\n",
            "Intercept    -266.0312     92.674     -2.871      0.021    -479.737     -52.325\n",
            "RPM             0.0107      0.004      2.390      0.044       0.000       0.021\n",
            "Octane          3.1348      0.844      3.712      0.006       1.188       5.082\n",
            "Compression     1.8674      0.535      3.494      0.008       0.635       3.100\n",
            "==============================================================================\n",
            "Omnibus:                        0.392   Durbin-Watson:                   1.043\n",
            "Prob(Omnibus):                  0.822   Jarque-Bera (JB):                0.230\n",
            "Skew:                          -0.282   Prob(JB):                        0.891\n",
            "Kurtosis:                       2.625   Cond. No.                     9.03e+04\n",
            "==============================================================================\n",
            "\n",
            "Notes:\n",
            "[1] Standard Errors assume that the covariance matrix of the errors is correctly specified.\n",
            "[2] The condition number is large, 9.03e+04. This might indicate that there are\n",
            "strong multicollinearity or other numerical problems.\n"
          ]
        }
      ]
    },
    {
      "cell_type": "markdown",
      "source": [
        "b)\n",
        "The F-statistic is equal to 11.12 which is corresponds to a low p-value and thus the null hypothesis is rejected. One of the three variables will have a non-zero coefficient. "
      ],
      "metadata": {
        "id": "ozuiKYLZgaGC"
      }
    },
    {
      "cell_type": "markdown",
      "source": [
        "c)\n",
        "All three of the independent variables, RPM, Octane, and Compression, have p-values of less than .05, .044, .006, and .008 respectively. This low value means that all three will contribute significantly to the regression model and are thus must be included in the analysis. "
      ],
      "metadata": {
        "id": "7rFLQOxrhk56"
      }
    }
  ]
}